{
 "cells": [
  {
   "cell_type": "code",
   "execution_count": 52,
   "metadata": {
    "collapsed": false
   },
   "outputs": [
    {
     "data": {
      "text/html": [
       "<div>\n",
       "<table border=\"1\" class=\"dataframe\">\n",
       "  <thead>\n",
       "    <tr style=\"text-align: right;\">\n",
       "      <th></th>\n",
       "      <th>Income (x100k)</th>\n",
       "      <th>F. Income</th>\n",
       "      <th>Occ.</th>\n",
       "      <th>City</th>\n",
       "      <th>State</th>\n",
       "      <th>Country</th>\n",
       "      <th>Sex</th>\n",
       "      <th>Partner</th>\n",
       "    </tr>\n",
       "  </thead>\n",
       "  <tbody>\n",
       "    <tr>\n",
       "      <th>0</th>\n",
       "      <td>50.0</td>\n",
       "      <td>25000</td>\n",
       "      <td>SALES</td>\n",
       "      <td>Rancho</td>\n",
       "      <td>CA</td>\n",
       "      <td>US</td>\n",
       "      <td>P</td>\n",
       "      <td>1</td>\n",
       "    </tr>\n",
       "    <tr>\n",
       "      <th>1</th>\n",
       "      <td>40.0</td>\n",
       "      <td>13000</td>\n",
       "      <td>TEACHER</td>\n",
       "      <td>Chattanooga</td>\n",
       "      <td>TN</td>\n",
       "      <td>US</td>\n",
       "      <td>M</td>\n",
       "      <td>0</td>\n",
       "    </tr>\n",
       "    <tr>\n",
       "      <th>2</th>\n",
       "      <td>40.0</td>\n",
       "      <td>10000</td>\n",
       "      <td>COACH</td>\n",
       "      <td>Gainesville</td>\n",
       "      <td>GA</td>\n",
       "      <td>US</td>\n",
       "      <td>P</td>\n",
       "      <td>1</td>\n",
       "    </tr>\n",
       "    <tr>\n",
       "      <th>3</th>\n",
       "      <td>30.0</td>\n",
       "      <td>50000</td>\n",
       "      <td>MGT</td>\n",
       "      <td>Ontario</td>\n",
       "      <td>CA</td>\n",
       "      <td>US</td>\n",
       "      <td>P</td>\n",
       "      <td>1</td>\n",
       "    </tr>\n",
       "    <tr>\n",
       "      <th>4</th>\n",
       "      <td>30.0</td>\n",
       "      <td>0</td>\n",
       "      <td>MGT</td>\n",
       "      <td>Suwanee</td>\n",
       "      <td>GA</td>\n",
       "      <td>US</td>\n",
       "      <td>P</td>\n",
       "      <td>1</td>\n",
       "    </tr>\n",
       "  </tbody>\n",
       "</table>\n",
       "</div>"
      ],
      "text/plain": [
       "   Income (x100k)  F. Income     Occ.         City State Country Sex  Partner\n",
       "0            50.0      25000    SALES       Rancho    CA      US   P        1\n",
       "1            40.0      13000  TEACHER  Chattanooga    TN      US   M        0\n",
       "2            40.0      10000    COACH  Gainesville    GA      US   P        1\n",
       "3            30.0      50000      MGT      Ontario    CA      US   P        1\n",
       "4            30.0          0      MGT      Suwanee    GA      US   P        1"
      ]
     },
     "metadata": {},
     "output_type": "display_data"
    }
   ],
   "source": [
    "#Initialization\n",
    "\n",
    "import numpy as np\n",
    "import pandas as pd\n",
    "from IPython.display import display\n",
    "\n",
    "%matplotlib inline\n",
    "\n",
    "in_file = 'finaldata.csv'\n",
    "full_data = pd.read_csv(in_file)\n",
    "\n",
    "#Loading Test\n",
    "\n",
    "display(full_data.head())"
   ]
  },
  {
   "cell_type": "code",
   "execution_count": 53,
   "metadata": {
    "collapsed": false
   },
   "outputs": [
    {
     "data": {
      "text/html": [
       "<div>\n",
       "<table border=\"1\" class=\"dataframe\">\n",
       "  <thead>\n",
       "    <tr style=\"text-align: right;\">\n",
       "      <th></th>\n",
       "      <th>F. Income</th>\n",
       "      <th>Occ.</th>\n",
       "      <th>City</th>\n",
       "      <th>State</th>\n",
       "      <th>Country</th>\n",
       "      <th>Sex</th>\n",
       "      <th>Partner</th>\n",
       "    </tr>\n",
       "  </thead>\n",
       "  <tbody>\n",
       "    <tr>\n",
       "      <th>0</th>\n",
       "      <td>25000</td>\n",
       "      <td>SALES</td>\n",
       "      <td>Rancho</td>\n",
       "      <td>CA</td>\n",
       "      <td>US</td>\n",
       "      <td>P</td>\n",
       "      <td>1</td>\n",
       "    </tr>\n",
       "    <tr>\n",
       "      <th>1</th>\n",
       "      <td>13000</td>\n",
       "      <td>TEACHER</td>\n",
       "      <td>Chattanooga</td>\n",
       "      <td>TN</td>\n",
       "      <td>US</td>\n",
       "      <td>M</td>\n",
       "      <td>0</td>\n",
       "    </tr>\n",
       "    <tr>\n",
       "      <th>2</th>\n",
       "      <td>10000</td>\n",
       "      <td>COACH</td>\n",
       "      <td>Gainesville</td>\n",
       "      <td>GA</td>\n",
       "      <td>US</td>\n",
       "      <td>P</td>\n",
       "      <td>1</td>\n",
       "    </tr>\n",
       "    <tr>\n",
       "      <th>3</th>\n",
       "      <td>50000</td>\n",
       "      <td>MGT</td>\n",
       "      <td>Ontario</td>\n",
       "      <td>CA</td>\n",
       "      <td>US</td>\n",
       "      <td>P</td>\n",
       "      <td>1</td>\n",
       "    </tr>\n",
       "    <tr>\n",
       "      <th>4</th>\n",
       "      <td>0</td>\n",
       "      <td>MGT</td>\n",
       "      <td>Suwanee</td>\n",
       "      <td>GA</td>\n",
       "      <td>US</td>\n",
       "      <td>P</td>\n",
       "      <td>1</td>\n",
       "    </tr>\n",
       "  </tbody>\n",
       "</table>\n",
       "</div>"
      ],
      "text/plain": [
       "   F. Income     Occ.         City State Country Sex  Partner\n",
       "0      25000    SALES       Rancho    CA      US   P        1\n",
       "1      13000  TEACHER  Chattanooga    TN      US   M        0\n",
       "2      10000    COACH  Gainesville    GA      US   P        1\n",
       "3      50000      MGT      Ontario    CA      US   P        1\n",
       "4          0      MGT      Suwanee    GA      US   P        1"
      ]
     },
     "metadata": {},
     "output_type": "display_data"
    }
   ],
   "source": [
    "# Store \"Income\" feature in new variable and remove from the dataset\n",
    "\n",
    "income = full_data['Income (x100k)']\n",
    "data = full_data.drop('Income (x100k)', axis = 1)\n",
    "\n",
    "# Test data drop\n",
    "\n",
    "display(data.head())"
   ]
  },
  {
   "cell_type": "code",
   "execution_count": 54,
   "metadata": {
    "collapsed": false
   },
   "outputs": [
    {
     "data": {
      "text/html": [
       "<div>\n",
       "<table border=\"1\" class=\"dataframe\">\n",
       "  <thead>\n",
       "    <tr style=\"text-align: right;\">\n",
       "      <th></th>\n",
       "      <th>F. Income</th>\n",
       "      <th>Occ.</th>\n",
       "      <th>City</th>\n",
       "      <th>State</th>\n",
       "      <th>Country</th>\n",
       "      <th>Sex</th>\n",
       "      <th>Partner</th>\n",
       "    </tr>\n",
       "  </thead>\n",
       "  <tbody>\n",
       "    <tr>\n",
       "      <th>0</th>\n",
       "      <td>0.050</td>\n",
       "      <td>SALES</td>\n",
       "      <td>Rancho</td>\n",
       "      <td>CA</td>\n",
       "      <td>US</td>\n",
       "      <td>P</td>\n",
       "      <td>1</td>\n",
       "    </tr>\n",
       "    <tr>\n",
       "      <th>1</th>\n",
       "      <td>0.026</td>\n",
       "      <td>TEACHER</td>\n",
       "      <td>Chattanooga</td>\n",
       "      <td>TN</td>\n",
       "      <td>US</td>\n",
       "      <td>M</td>\n",
       "      <td>0</td>\n",
       "    </tr>\n",
       "    <tr>\n",
       "      <th>2</th>\n",
       "      <td>0.020</td>\n",
       "      <td>COACH</td>\n",
       "      <td>Gainesville</td>\n",
       "      <td>GA</td>\n",
       "      <td>US</td>\n",
       "      <td>P</td>\n",
       "      <td>1</td>\n",
       "    </tr>\n",
       "    <tr>\n",
       "      <th>3</th>\n",
       "      <td>0.100</td>\n",
       "      <td>MGT</td>\n",
       "      <td>Ontario</td>\n",
       "      <td>CA</td>\n",
       "      <td>US</td>\n",
       "      <td>P</td>\n",
       "      <td>1</td>\n",
       "    </tr>\n",
       "    <tr>\n",
       "      <th>4</th>\n",
       "      <td>0.000</td>\n",
       "      <td>MGT</td>\n",
       "      <td>Suwanee</td>\n",
       "      <td>GA</td>\n",
       "      <td>US</td>\n",
       "      <td>P</td>\n",
       "      <td>1</td>\n",
       "    </tr>\n",
       "  </tbody>\n",
       "</table>\n",
       "</div>"
      ],
      "text/plain": [
       "   F. Income     Occ.         City State Country Sex  Partner\n",
       "0      0.050    SALES       Rancho    CA      US   P        1\n",
       "1      0.026  TEACHER  Chattanooga    TN      US   M        0\n",
       "2      0.020    COACH  Gainesville    GA      US   P        1\n",
       "3      0.100      MGT      Ontario    CA      US   P        1\n",
       "4      0.000      MGT      Suwanee    GA      US   P        1"
      ]
     },
     "metadata": {},
     "output_type": "display_data"
    }
   ],
   "source": [
    "# Normalization of numerical features will occur since the features are highly skewed.\n",
    "\n",
    "from sklearn.preprocessing import MinMaxScaler\n",
    "\n",
    "scaler = MinMaxScaler()\n",
    "numerical = ['F. Income']\n",
    "data[numerical] = scaler.fit_transform(data[numerical])\n",
    "\n",
    "# Before benchmarking, the data points will be randomly shuffled to prevent inaccuracies\n",
    "\n",
    "display(data.head())"
   ]
  },
  {
   "cell_type": "code",
   "execution_count": 55,
   "metadata": {
    "collapsed": false
   },
   "outputs": [
    {
     "name": "stdout",
     "output_type": "stream",
     "text": [
      "1145 total features after one-hot enconding.\n"
     ]
    }
   ],
   "source": [
    "# Some basic preprocessing will occure here, as categorical values will be one-hot encoded.\n",
    "\n",
    "features = pd.get_dummies(data)\n",
    "income_hot = pd.get_dummies(income)\n",
    "\n",
    "encoded = list(features.columns)\n",
    "\n",
    "print \"{} total features after one-hot enconding.\".format(len(encoded))"
   ]
  },
  {
   "cell_type": "code",
   "execution_count": 56,
   "metadata": {
    "collapsed": false
   },
   "outputs": [
    {
     "name": "stdout",
     "output_type": "stream",
     "text": [
      "Training set has 2190 samples.\n",
      "Testing set has 387 samples.\n"
     ]
    }
   ],
   "source": [
    "# Before conducting our Benchmark model, the data set will be split into training and testing sets.\n",
    "# Initially, 85% of the data will be used for training and 15% will be used for testing.\n",
    "\n",
    "from sklearn.cross_validation import train_test_split\n",
    "\n",
    "X_train, X_test, y_train, y_test = train_test_split(features, income_hot, test_size = 0.15, random_state = 0)\n",
    "\n",
    "print \"Training set has {} samples.\".format(X_train.shape[0])\n",
    "print \"Testing set has {} samples.\".format(X_test.shape[0])"
   ]
  },
  {
   "cell_type": "code",
   "execution_count": 57,
   "metadata": {
    "collapsed": false
   },
   "outputs": [
    {
     "data": {
      "text/plain": [
       "RandomForestClassifier(bootstrap=True, class_weight=None, criterion='gini',\n",
       "            max_depth=None, max_features='auto', max_leaf_nodes=None,\n",
       "            min_impurity_decrease=0.0, min_impurity_split=None,\n",
       "            min_samples_leaf=1, min_samples_split=2,\n",
       "            min_weight_fraction_leaf=0.0, n_estimators=10, n_jobs=1,\n",
       "            oob_score=False, random_state=None, verbose=0,\n",
       "            warm_start=False)"
      ]
     },
     "execution_count": 57,
     "metadata": {},
     "output_type": "execute_result"
    }
   ],
   "source": [
    "# It is now time to train our benchmark model!\n",
    "\n",
    "from sklearn.ensemble import RandomForestClassifier\n",
    "\n",
    "clf = RandomForestClassifier()\n",
    "clf.fit(X_train, y_train)"
   ]
  },
  {
   "cell_type": "code",
   "execution_count": 58,
   "metadata": {
    "collapsed": false
   },
   "outputs": [
    {
     "name": "stdout",
     "output_type": "stream",
     "text": [
      "Random Forest F1-score is 0.88\n"
     ]
    }
   ],
   "source": [
    "# In this section, the f1 score is evaluated for the \"out-of-the-box\"\n",
    "# Random Forest Classifier used as our benchmark.\n",
    "\n",
    "from sklearn.metrics import f1_score\n",
    "\n",
    "pred = clf.predict(X_test)\n",
    "score = f1_score(y_test, pred, average = None)\n",
    "\n",
    "print (\"Random Forest F1-score is {}\".format(round(score[0], 3)))"
   ]
  },
  {
   "cell_type": "code",
   "execution_count": 59,
   "metadata": {
    "collapsed": false
   },
   "outputs": [
    {
     "name": "stdout",
     "output_type": "stream",
     "text": [
      "Optimized Random Forest F1-score is 0.889\n",
      "Feature Ranking:\n",
      "1. Feature 33 (0.101728)\n",
      "2. Feature 0 (0.078445)\n",
      "3. Feature 27 (0.041865)\n",
      "4. Feature 34 (0.032209)\n",
      "5. Feature 16 (0.016278)\n",
      "6. Feature 21 (0.012122)\n",
      "7. Feature 647 (0.011899)\n"
     ]
    }
   ],
   "source": [
    "# Now that our benchmark has been set, we will attempt to optimize our \n",
    "# classification method by editing all available parameters\n",
    "\n",
    "import matplotlib.pyplot as plt\n",
    "\n",
    "clf2 = RandomForestClassifier(n_estimators=30, max_depth = 30, \n",
    "                              bootstrap = False)\n",
    "clf2.fit(X_train, y_train)\n",
    "\n",
    "pred2 = clf2.predict(X_test)\n",
    "score2 = f1_score(y_test, pred2, average = None)\n",
    "\n",
    "print (\"Optimized Random Forest F1-score is {}\".format(round(score2[0], 3)))\n",
    "\n",
    "importances = clf2.feature_importances_\n",
    "std = np.std([tree.feature_importances_ for tree in clf2.estimators_], axis = 0)\n",
    "indices = np.argsort(importances)[::-1]\n",
    "\n",
    "print(\"Feature Ranking:\")\n",
    "\n",
    "for f in range(data.shape[1]):\n",
    "    print(\"%d. Feature %d (%f)\" % (f + 1, indices[f], importances[indices[f]]))\n",
    "\n",
    "# By analyzing one-hot encoded indices the following features can be analyzed."
   ]
  },
  {
   "cell_type": "code",
   "execution_count": 60,
   "metadata": {
    "collapsed": false
   },
   "outputs": [
    {
     "name": "stdout",
     "output_type": "stream",
     "text": [
      "SVC F1-score is 0.88\n"
     ]
    }
   ],
   "source": [
    "from sklearn.svm import SVC\n",
    "from sklearn.metrics import f1_score\n",
    "\n",
    "y_train_re = np.ravel(y_train)\n",
    "\n",
    "sup = SVC()\n",
    "sup.fit(X_train, y_train_re[:2190])\n",
    "\n",
    "pred_SVC = sup.predict(X_test)\n",
    "score_SVC = f1_score(y_test, pred, average = None)\n",
    "\n",
    "print (\"SVC F1-score is {}\".format(round(score[0], 3)))\n"
   ]
  },
  {
   "cell_type": "code",
   "execution_count": 63,
   "metadata": {
    "collapsed": false
   },
   "outputs": [
    {
     "name": "stdout",
     "output_type": "stream",
     "text": [
      "Random Forest F1-score is 0.88\n"
     ]
    }
   ],
   "source": [
    "from sklearn.model_selection import KFold\n",
    "from sklearn.ensemble import RandomForestClassifier\n",
    "from sklearn.metrics import f1_score\n",
    "\n",
    "kf = KFold(n_splits = 2)\n",
    "kf.get_n_splits(X_train)\n",
    "\n",
    "for train_index, test_index in kf.split(X_train):\n",
    "    X_train_kf, X_test_kf = features.iloc[train_index], features.iloc[test_index]\n",
    "    y_train_kf, y_test_kf = income_hot.iloc[train_index], income_hot.iloc[test_index]\n",
    "\n",
    "clf = RandomForestClassifier()\n",
    "clf.fit(X_train, y_train) \n",
    "\n",
    "pred = clf_kf.predict(X_test)\n",
    "score_kf = f1_score(y_test, pred, average = None)\n",
    "\n",
    "print (\"Random Forest F1-score is {}\".format(round(score[0], 3)))"
   ]
  },
  {
   "cell_type": "code",
   "execution_count": null,
   "metadata": {
    "collapsed": true
   },
   "outputs": [],
   "source": []
  },
  {
   "cell_type": "code",
   "execution_count": null,
   "metadata": {
    "collapsed": true
   },
   "outputs": [],
   "source": []
  }
 ],
 "metadata": {
  "kernelspec": {
   "display_name": "Python 2",
   "language": "python",
   "name": "python2"
  },
  "language_info": {
   "codemirror_mode": {
    "name": "ipython",
    "version": 2
   },
   "file_extension": ".py",
   "mimetype": "text/x-python",
   "name": "python",
   "nbconvert_exporter": "python",
   "pygments_lexer": "ipython2",
   "version": "2.7.13"
  }
 },
 "nbformat": 4,
 "nbformat_minor": 2
}
